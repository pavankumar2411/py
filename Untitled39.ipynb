{
  "nbformat": 4,
  "nbformat_minor": 0,
  "metadata": {
    "colab": {
      "name": "Untitled39.ipynb",
      "provenance": [],
      "authorship_tag": "ABX9TyP/6cUwkHiA+fIN/WvkpcFH",
      "include_colab_link": true
    },
    "kernelspec": {
      "name": "python3",
      "display_name": "Python 3"
    }
  },
  "cells": [
    {
      "cell_type": "markdown",
      "metadata": {
        "id": "view-in-github",
        "colab_type": "text"
      },
      "source": [
        "<a href=\"https://colab.research.google.com/github/pavankumar2411/py/blob/master/Untitled39.ipynb\" target=\"_parent\"><img src=\"https://colab.research.google.com/assets/colab-badge.svg\" alt=\"Open In Colab\"/></a>"
      ]
    },
    {
      "cell_type": "code",
      "metadata": {
        "colab": {
          "base_uri": "https://localhost:8080/"
        },
        "id": "sSiQh2QT396Q",
        "outputId": "e21287c7-ee6c-44f1-b22d-469021c68410"
      },
      "source": [
        "gcd = lambda a,b: a if b ==0 else not a % b and b or gcd(b , a % b)\r\n",
        "print(gcd)"
      ],
      "execution_count": 1,
      "outputs": [
        {
          "output_type": "execute_result",
          "data": {
            "text/plain": [
              "<function __main__.<lambda>>"
            ]
          },
          "metadata": {
            "tags": []
          },
          "execution_count": 1
        }
      ]
    },
    {
      "cell_type": "code",
      "metadata": {
        "colab": {
          "base_uri": "https://localhost:8080/"
        },
        "id": "tBZCb4_L7wzN",
        "outputId": "3442c28c-f23c-48f4-c1a8-e20f5f026ada"
      },
      "source": [
        "def gcd(a,b):\r\n",
        "\r\n",
        "    small=0\r\n",
        "\r\n",
        "    gd=0\r\n",
        "\r\n",
        "    if a>b:\r\n",
        "\r\n",
        "        small==b\r\n",
        "\r\n",
        "    else:\r\n",
        "\r\n",
        "        small==a\r\n",
        "\r\n",
        "    for i in range(1, small+1):\r\n",
        "\r\n",
        "        if((a % i == 0) and (b % i == 0)):\r\n",
        "\r\n",
        "            gd=i\r\n",
        "\r\n",
        "    return gd\r\n",
        "\r\n",
        "a=int(input(\"Enter the first number: \"))\r\n",
        "\r\n",
        "b=int(input(\"Enter second number: \"))\r\n",
        "\r\n",
        "t=gcd(a,b)\r\n",
        "\r\n",
        "print(\"GCD is:\",t)\r\n"
      ],
      "execution_count": 4,
      "outputs": [
        {
          "output_type": "stream",
          "text": [
            "Enter the first number: 12\n",
            "Enter second number: 18\n",
            "GCD is: 0\n"
          ],
          "name": "stdout"
        }
      ]
    },
    {
      "cell_type": "code",
      "metadata": {
        "colab": {
          "base_uri": "https://localhost:8080/"
        },
        "id": "0qtQnTp47_t4",
        "outputId": "f2ba430b-0fcd-41f7-de61-67be19d864e6"
      },
      "source": [
        "testList = [1, 43, 31, 21, 6, 96, 48, 13, 25, 5]\r\n",
        "\r\n",
        "def bubbleSort(testList):\r\n",
        "    for i in range(len(testList)):\r\n",
        "        for j in range(i+1, len(testList)):\r\n",
        "            if testList[j] < testList[i]:\r\n",
        "                testList[j], testList[i] = testList[i], testList[j]\r\n",
        "            print(testList)\r\n",
        "\r\n",
        "print(\"O(n**2): \")\r\n",
        "bubbleSort(testList)"
      ],
      "execution_count": 5,
      "outputs": [
        {
          "output_type": "stream",
          "text": [
            "O(n**2): \n",
            "[1, 43, 31, 21, 6, 96, 48, 13, 25, 5]\n",
            "[1, 43, 31, 21, 6, 96, 48, 13, 25, 5]\n",
            "[1, 43, 31, 21, 6, 96, 48, 13, 25, 5]\n",
            "[1, 43, 31, 21, 6, 96, 48, 13, 25, 5]\n",
            "[1, 43, 31, 21, 6, 96, 48, 13, 25, 5]\n",
            "[1, 43, 31, 21, 6, 96, 48, 13, 25, 5]\n",
            "[1, 43, 31, 21, 6, 96, 48, 13, 25, 5]\n",
            "[1, 43, 31, 21, 6, 96, 48, 13, 25, 5]\n",
            "[1, 43, 31, 21, 6, 96, 48, 13, 25, 5]\n",
            "[1, 31, 43, 21, 6, 96, 48, 13, 25, 5]\n",
            "[1, 21, 43, 31, 6, 96, 48, 13, 25, 5]\n",
            "[1, 6, 43, 31, 21, 96, 48, 13, 25, 5]\n",
            "[1, 6, 43, 31, 21, 96, 48, 13, 25, 5]\n",
            "[1, 6, 43, 31, 21, 96, 48, 13, 25, 5]\n",
            "[1, 6, 43, 31, 21, 96, 48, 13, 25, 5]\n",
            "[1, 6, 43, 31, 21, 96, 48, 13, 25, 5]\n",
            "[1, 5, 43, 31, 21, 96, 48, 13, 25, 6]\n",
            "[1, 5, 31, 43, 21, 96, 48, 13, 25, 6]\n",
            "[1, 5, 21, 43, 31, 96, 48, 13, 25, 6]\n",
            "[1, 5, 21, 43, 31, 96, 48, 13, 25, 6]\n",
            "[1, 5, 21, 43, 31, 96, 48, 13, 25, 6]\n",
            "[1, 5, 13, 43, 31, 96, 48, 21, 25, 6]\n",
            "[1, 5, 13, 43, 31, 96, 48, 21, 25, 6]\n",
            "[1, 5, 6, 43, 31, 96, 48, 21, 25, 13]\n",
            "[1, 5, 6, 31, 43, 96, 48, 21, 25, 13]\n",
            "[1, 5, 6, 31, 43, 96, 48, 21, 25, 13]\n",
            "[1, 5, 6, 31, 43, 96, 48, 21, 25, 13]\n",
            "[1, 5, 6, 21, 43, 96, 48, 31, 25, 13]\n",
            "[1, 5, 6, 21, 43, 96, 48, 31, 25, 13]\n",
            "[1, 5, 6, 13, 43, 96, 48, 31, 25, 21]\n",
            "[1, 5, 6, 13, 43, 96, 48, 31, 25, 21]\n",
            "[1, 5, 6, 13, 43, 96, 48, 31, 25, 21]\n",
            "[1, 5, 6, 13, 31, 96, 48, 43, 25, 21]\n",
            "[1, 5, 6, 13, 25, 96, 48, 43, 31, 21]\n",
            "[1, 5, 6, 13, 21, 96, 48, 43, 31, 25]\n",
            "[1, 5, 6, 13, 21, 48, 96, 43, 31, 25]\n",
            "[1, 5, 6, 13, 21, 43, 96, 48, 31, 25]\n",
            "[1, 5, 6, 13, 21, 31, 96, 48, 43, 25]\n",
            "[1, 5, 6, 13, 21, 25, 96, 48, 43, 31]\n",
            "[1, 5, 6, 13, 21, 25, 48, 96, 43, 31]\n",
            "[1, 5, 6, 13, 21, 25, 43, 96, 48, 31]\n",
            "[1, 5, 6, 13, 21, 25, 31, 96, 48, 43]\n",
            "[1, 5, 6, 13, 21, 25, 31, 48, 96, 43]\n",
            "[1, 5, 6, 13, 21, 25, 31, 43, 96, 48]\n",
            "[1, 5, 6, 13, 21, 25, 31, 43, 48, 96]\n"
          ],
          "name": "stdout"
        }
      ]
    },
    {
      "cell_type": "code",
      "metadata": {
        "colab": {
          "base_uri": "https://localhost:8080/"
        },
        "id": "CZlAYj-j9MyM",
        "outputId": "c005369a-d7d3-458e-da05-3af392ebae73"
      },
      "source": [
        "testList = [1, 43, 31, 21, 6, 96, 48, 13, 25, 5]\r\n",
        "\r\n",
        "def mergeSort(testList):\r\n",
        "    if len(testList) < 2:\r\n",
        "        return testList\r\n",
        "    middle = int(len(testList) / 2)\r\n",
        "    left = mergeSort(testList[:middle])\r\n",
        "    right = mergeSort(testList[middle:])\r\n",
        "    result = []\r\n",
        "    print(\"Left: \", left)\r\n",
        "    print(\"Right: \", right)\r\n",
        "    while len(left) > 0 and len(right) > 0:\r\n",
        "        if left[0] <= right[0]:\r\n",
        "            result.append(left[0])\r\n",
        "            left.pop(0)\r\n",
        "        else:\r\n",
        "            result.append(right[0])\r\n",
        "            right.pop(0)\r\n",
        "    result += left\r\n",
        "    result += right\r\n",
        "    print(\"Result: \", result)\r\n",
        "    return result\r\n",
        "\r\n",
        "print(\"O(n log n): \")\r\n",
        "mergeSort(testList)\r\n",
        "print()"
      ],
      "execution_count": 6,
      "outputs": [
        {
          "output_type": "stream",
          "text": [
            "O(n log n): \n",
            "Left:  [1]\n",
            "Right:  [43]\n",
            "Result:  [1, 43]\n",
            "Left:  [21]\n",
            "Right:  [6]\n",
            "Result:  [6, 21]\n",
            "Left:  [31]\n",
            "Right:  [6, 21]\n",
            "Result:  [6, 21, 31]\n",
            "Left:  [1, 43]\n",
            "Right:  [6, 21, 31]\n",
            "Result:  [1, 6, 21, 31, 43]\n",
            "Left:  [96]\n",
            "Right:  [48]\n",
            "Result:  [48, 96]\n",
            "Left:  [25]\n",
            "Right:  [5]\n",
            "Result:  [5, 25]\n",
            "Left:  [13]\n",
            "Right:  [5, 25]\n",
            "Result:  [5, 13, 25]\n",
            "Left:  [48, 96]\n",
            "Right:  [5, 13, 25]\n",
            "Result:  [5, 13, 25, 48, 96]\n",
            "Left:  [1, 6, 21, 31, 43]\n",
            "Right:  [5, 13, 25, 48, 96]\n",
            "Result:  [1, 5, 6, 13, 21, 25, 31, 43, 48, 96]\n",
            "\n"
          ],
          "name": "stdout"
        }
      ]
    },
    {
      "cell_type": "code",
      "metadata": {
        "colab": {
          "base_uri": "https://localhost:8080/"
        },
        "id": "kNtm9xkW9cgo",
        "outputId": "fb78fee7-cbdd-4996-e9ee-2e8830558df4"
      },
      "source": [
        "num = 15\r\n",
        "\r\n",
        "def addOnes(num):\r\n",
        "    testList = []\r\n",
        "    for i in range(0, num):\r\n",
        "        testList.append(1)\r\n",
        "        print(testList)\r\n",
        "    return testList\r\n",
        "\r\n",
        "print(\"O(n): \")\r\n",
        "addOnes(num)\r\n",
        "print()"
      ],
      "execution_count": 8,
      "outputs": [
        {
          "output_type": "stream",
          "text": [
            "O(n): \n",
            "[1]\n",
            "[1, 1]\n",
            "[1, 1, 1]\n",
            "[1, 1, 1, 1]\n",
            "[1, 1, 1, 1, 1]\n",
            "[1, 1, 1, 1, 1, 1]\n",
            "[1, 1, 1, 1, 1, 1, 1]\n",
            "[1, 1, 1, 1, 1, 1, 1, 1]\n",
            "[1, 1, 1, 1, 1, 1, 1, 1, 1]\n",
            "[1, 1, 1, 1, 1, 1, 1, 1, 1, 1]\n",
            "[1, 1, 1, 1, 1, 1, 1, 1, 1, 1, 1]\n",
            "[1, 1, 1, 1, 1, 1, 1, 1, 1, 1, 1, 1]\n",
            "[1, 1, 1, 1, 1, 1, 1, 1, 1, 1, 1, 1, 1]\n",
            "[1, 1, 1, 1, 1, 1, 1, 1, 1, 1, 1, 1, 1, 1]\n",
            "[1, 1, 1, 1, 1, 1, 1, 1, 1, 1, 1, 1, 1, 1, 1]\n",
            "\n"
          ],
          "name": "stdout"
        }
      ]
    },
    {
      "cell_type": "code",
      "metadata": {
        "id": "Gofy_kl69-5h"
      },
      "source": [
        ""
      ],
      "execution_count": null,
      "outputs": []
    }
  ]
}